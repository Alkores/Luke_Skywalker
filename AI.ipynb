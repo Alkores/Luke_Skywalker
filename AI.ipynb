{
  "nbformat": 4,
  "nbformat_minor": 0,
  "metadata": {
    "colab": {
      "provenance": [],
      "authorship_tag": "ABX9TyMQ+b8z2saO9MwwtxTCmc53",
      "include_colab_link": true
    },
    "kernelspec": {
      "name": "python3",
      "display_name": "Python 3"
    },
    "language_info": {
      "name": "python"
    }
  },
  "cells": [
    {
      "cell_type": "markdown",
      "metadata": {
        "id": "view-in-github",
        "colab_type": "text"
      },
      "source": [
        "<a href=\"https://colab.research.google.com/github/Alkores/Luke_Skywalker/blob/main/AI.ipynb\" target=\"_parent\"><img src=\"https://colab.research.google.com/assets/colab-badge.svg\" alt=\"Open In Colab\"/></a>"
      ]
    },
    {
      "cell_type": "code",
      "execution_count": null,
      "metadata": {
        "id": "444GpxANAv-W"
      },
      "outputs": [],
      "source": [
        "!pip install catboost"
      ]
    },
    {
      "cell_type": "code",
      "source": [
        "# Импорт библиотек\n",
        "import pandas as pd\n",
        "from catboost import CatBoostClassifier\n",
        "from sklearn.model_selection import train_test_split\n",
        "from sklearn.metrics import accuracy_score\n",
        "\n",
        "# Загрузка данных из CSV\n",
        "data = pd.read_csv(\"train_data.csv\", encoding='utf-8', sep=';')  # Входной файл с данными для обучения\n",
        "\n",
        "# Подготовка данных\n",
        "feature_columns = ['gndr', 'brth_yr', 'prsnt_age', 'accnt_status', 'pnsn_age', 'nmbr_of_trnsltns', 'trnsltn_vltn']\n",
        "X = data[feature_columns]  # Признаки\n",
        "y = data['erly_pnsn_flg']  # Целевая переменная\n",
        "\n",
        "# Разделение данных на обучающую и тестовую выборки\n",
        "X_train, X_test, y_train, y_test = train_test_split(X, y, test_size=0.2, random_state=42)\n",
        "\n",
        "# Обучение модели\n",
        "model = CatBoostClassifier(iterations=1000, learning_rate=0.1, depth=6, eval_metric='Accuracy', verbose=100)\n",
        "model.fit(X_train, y_train, eval_set=(X_test, y_test), use_best_model=True)\n",
        "\n",
        "# Сохранение модели\n",
        "model.save_model(\"catboost_model.cbm\")  # Сохранение модели в файл\n",
        "\n",
        "# Оценка модели на тестовых данных\n",
        "y_pred = model.predict(X_test)\n",
        "accuracy = accuracy_score(y_test, y_pred)\n",
        "print(f\"Точность модели на тестовых данных: {accuracy:.2f}\")\n",
        "\n",
        "# Прогноз для новых данных (входной файл с эталоном)\n",
        "new_data = pd.read_csv(\"predict1_data.csv\", encoding='utf-8', sep=';')  # Входной файл с данными для предсказания\n",
        "\n",
        "# Предполагаем, что в new_data есть столбец 'erly_pnsn_flg' для сверки\n",
        "if 'erly_pnsn_flg' in new_data.columns:\n",
        "    y_true = new_data['erly_pnsn_flg']  # Истинные значения\n",
        "    new_data_predictions = model.predict(new_data[feature_columns])  # Прогноз\n",
        "\n",
        "    # Оценка модели на новых данных\n",
        "    new_accuracy = accuracy_score(y_true, new_data_predictions)\n",
        "    print(f\"Точность модели на новых данных: {new_accuracy:.2f}\")\n",
        "\n",
        "    # Сохранение предсказаний в CSV\n",
        "    output = new_data.copy()\n",
        "    output['predicted_erly_pnsn_flg'] = new_data_predictions  # Добавление предсказаний в выходной файл\n",
        "    output.to_csv(\"VALID_data.csv\", index=False)  # Выходной файл с предсказаниями\n",
        "else:\n",
        "    print(\"В файле предсказаний отсутствует столбец 'erly_pnsn_flg' для сверки.\")\n"
      ],
      "metadata": {
        "colab": {
          "base_uri": "https://localhost:8080/"
        },
        "id": "agyTQNDnCOY5",
        "outputId": "7d3b0557-121c-4a80-d8b6-db7dc3c8b6ef"
      },
      "execution_count": 21,
      "outputs": [
        {
          "output_type": "stream",
          "name": "stdout",
          "text": [
            "0:\tlearn: 1.0000000\ttest: 1.0000000\tbest: 1.0000000 (0)\ttotal: 1.12ms\tremaining: 1.12s\n",
            "100:\tlearn: 1.0000000\ttest: 1.0000000\tbest: 1.0000000 (0)\ttotal: 100ms\tremaining: 890ms\n",
            "200:\tlearn: 1.0000000\ttest: 1.0000000\tbest: 1.0000000 (0)\ttotal: 189ms\tremaining: 750ms\n",
            "300:\tlearn: 1.0000000\ttest: 1.0000000\tbest: 1.0000000 (0)\ttotal: 274ms\tremaining: 636ms\n",
            "400:\tlearn: 1.0000000\ttest: 1.0000000\tbest: 1.0000000 (0)\ttotal: 353ms\tremaining: 528ms\n",
            "500:\tlearn: 1.0000000\ttest: 1.0000000\tbest: 1.0000000 (0)\ttotal: 436ms\tremaining: 435ms\n",
            "600:\tlearn: 1.0000000\ttest: 1.0000000\tbest: 1.0000000 (0)\ttotal: 518ms\tremaining: 344ms\n",
            "700:\tlearn: 1.0000000\ttest: 1.0000000\tbest: 1.0000000 (0)\ttotal: 601ms\tremaining: 256ms\n",
            "800:\tlearn: 1.0000000\ttest: 1.0000000\tbest: 1.0000000 (0)\ttotal: 686ms\tremaining: 170ms\n",
            "900:\tlearn: 1.0000000\ttest: 1.0000000\tbest: 1.0000000 (0)\ttotal: 765ms\tremaining: 84.1ms\n",
            "999:\tlearn: 1.0000000\ttest: 1.0000000\tbest: 1.0000000 (0)\ttotal: 843ms\tremaining: 0us\n",
            "\n",
            "bestTest = 1\n",
            "bestIteration = 0\n",
            "\n",
            "Shrink model to first 1 iterations.\n",
            "Точность модели на тестовых данных: 1.00\n",
            "Точность модели на новых данных: 1.00\n"
          ]
        }
      ]
    },
    {
      "cell_type": "code",
      "source": [
        "# Импорт библиотек\n",
        "import pandas as pd\n",
        "from catboost import CatBoostClassifier\n",
        "from sklearn.model_selection import train_test_split\n",
        "from sklearn.metrics import accuracy_score\n",
        "\n",
        "# Загрузка данных из CSV\n",
        "data = pd.read_csv(\"train1_data.csv\", encoding='utf-8', sep=';')  # Входной файл с данными для обучения\n",
        "\n",
        "# Подготовка данных\n",
        "feature_columns = ['gndr', 'brth_yr', 'prsnt_age', 'accnt_status', 'pnsn_age', 'nmbr_of_trnsltns', 'trnsltn_vltn']\n",
        "X = data[feature_columns]  # Признаки\n",
        "y = data['erly_pnsn_flg']  # Целевая переменная\n",
        "\n",
        "# Разделение данных на обучающую и тестовую выборки\n",
        "X_train, X_test, y_train, y_test = train_test_split(X, y, test_size=0.2, random_state=42)\n",
        "\n",
        "# Обучение модели\n",
        "model = CatBoostClassifier(iterations=1000, learning_rate=0.1, depth=6, eval_metric='Accuracy', verbose=100)\n",
        "model.fit(X_train, y_train, eval_set=(X_test, y_test), use_best_model=True)\n",
        "\n",
        "# Сохранение модели\n",
        "model.save_model(\"catboost_model.cbm\")  # Сохранение модели в файл\n",
        "\n",
        "# Оценка модели на тестовых данных\n",
        "y_pred = model.predict(X_test)\n",
        "accuracy = accuracy_score(y_test, y_pred)\n",
        "print(f\"Точность модели на тестовых данных: {accuracy:.2f}\")\n",
        "\n",
        "# Прогноз для новых данных (входной файл с эталоном)\n",
        "new_data = pd.read_csv(\"predict1_data.csv\", encoding='utf-8', sep=';')  # Входной файл с данными для предсказания\n",
        "\n",
        "# Предполагаем, что в new_data есть столбец 'erly_pnsn_flg' для сверки\n",
        "if 'erly_pnsn_flg' in new_data.columns:\n",
        "    y_true = new_data['erly_pnsn_flg']  # Истинные значения\n",
        "    new_data_predictions = model.predict(new_data[feature_columns])  # Прогноз\n",
        "\n",
        "    # Оценка модели на новых данных\n",
        "    new_accuracy = accuracy_score(y_true, new_data_predictions)\n",
        "    print(f\"Точность модели на новых данных: {new_accuracy:.2f}\")\n",
        "\n",
        "    # Сохранение предсказаний в CSV\n",
        "    output = new_data.copy()\n",
        "    output['predicted_erly_pnsn_flg'] = new_data_predictions  # Добавление предсказаний в выходной файл\n",
        "    output.to_csv(\"VALID_data.csv\", index=False)  # Выходной файл с предсказаниями\n",
        "else:\n",
        "    print(\"В файле предсказаний отсутствует столбец 'erly_pnsn_flg' для сверки.\")"
      ],
      "metadata": {
        "colab": {
          "base_uri": "https://localhost:8080/"
        },
        "id": "auLrtgd5UNl2",
        "outputId": "4d780c50-fb60-461e-ed42-4a1477e86477"
      },
      "execution_count": 22,
      "outputs": [
        {
          "output_type": "stream",
          "name": "stdout",
          "text": [
            "0:\tlearn: 1.0000000\ttest: 1.0000000\tbest: 1.0000000 (0)\ttotal: 1.32ms\tremaining: 1.32s\n",
            "100:\tlearn: 1.0000000\ttest: 1.0000000\tbest: 1.0000000 (0)\ttotal: 118ms\tremaining: 1.05s\n",
            "200:\tlearn: 1.0000000\ttest: 1.0000000\tbest: 1.0000000 (0)\ttotal: 275ms\tremaining: 1.09s\n",
            "300:\tlearn: 1.0000000\ttest: 1.0000000\tbest: 1.0000000 (0)\ttotal: 425ms\tremaining: 986ms\n",
            "400:\tlearn: 1.0000000\ttest: 1.0000000\tbest: 1.0000000 (0)\ttotal: 580ms\tremaining: 866ms\n",
            "500:\tlearn: 1.0000000\ttest: 1.0000000\tbest: 1.0000000 (0)\ttotal: 672ms\tremaining: 669ms\n",
            "600:\tlearn: 1.0000000\ttest: 1.0000000\tbest: 1.0000000 (0)\ttotal: 722ms\tremaining: 479ms\n",
            "700:\tlearn: 1.0000000\ttest: 1.0000000\tbest: 1.0000000 (0)\ttotal: 778ms\tremaining: 332ms\n",
            "800:\tlearn: 1.0000000\ttest: 1.0000000\tbest: 1.0000000 (0)\ttotal: 829ms\tremaining: 206ms\n",
            "900:\tlearn: 1.0000000\ttest: 1.0000000\tbest: 1.0000000 (0)\ttotal: 886ms\tremaining: 97.3ms\n",
            "999:\tlearn: 1.0000000\ttest: 1.0000000\tbest: 1.0000000 (0)\ttotal: 937ms\tremaining: 0us\n",
            "\n",
            "bestTest = 1\n",
            "bestIteration = 0\n",
            "\n",
            "Shrink model to first 1 iterations.\n",
            "Точность модели на тестовых данных: 1.00\n",
            "Точность модели на новых данных: 1.00\n"
          ]
        }
      ]
    },
    {
      "cell_type": "markdown",
      "source": [],
      "metadata": {
        "id": "Kez47N8rM5QF"
      }
    },
    {
      "cell_type": "markdown",
      "source": [],
      "metadata": {
        "id": "IxuD8RCTDyLK"
      }
    }
  ]
}